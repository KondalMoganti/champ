{
 "cells": [
  {
   "cell_type": "code",
   "execution_count": null,
   "metadata": {},
   "outputs": [],
   "source": [
    "from IPython.display import HTML\n",
    "\n",
    "HTML('''<script>\n",
    "code_show=true; \n",
    "function code_toggle() {\n",
    " if (code_show){\n",
    " $('div.input').hide();\n",
    " } else {\n",
    " $('div.input').show();\n",
    " }\n",
    " code_show = !code_show\n",
    "} \n",
    "$( document ).ready(code_toggle);\n",
    "</script>\n",
    "<form action=\"javascript:code_toggle()\"><input type=\"submit\" value=\"Click here to toggle on/off the raw code.\"></form>''')"
   ]
  },
  {
   "cell_type": "code",
   "execution_count": null,
   "metadata": {},
   "outputs": [],
   "source": [
    "pam_side=5  # 5 or 3 \n",
    "pam_length=4  # number of bases\n",
    "\n",
    "####################################################################################\n",
    "#                                                                                  #\n",
    "# Leave these values unchanged to let the script determine them automatically.         #\n",
    "# Only set them if something goes wrong!                                           #\n",
    "#                                                                                  #\n",
    "####################################################################################\n",
    "target_name = ''\n",
    "negative_control_name = ''\n",
    "target_sequence_file = '/shared/targets.yml'"
   ]
  },
  {
   "cell_type": "code",
   "execution_count": null,
   "metadata": {},
   "outputs": [],
   "source": [
    "from champ import interactive\n",
    "\n",
    "target_name = interactive.load_config_value('perfect_target_name', target_name)\n",
    "negative_control_name = interactive.load_config_value('neg_control_target_name', negative_control_name)\n",
    "# plot settings\n",
    "fontsize = 18\n",
    "tick_fontsize = 16"
   ]
  },
  {
   "cell_type": "code",
   "execution_count": null,
   "metadata": {},
   "outputs": [],
   "source": [
    "from Bio import SeqIO\n",
    "from collections import defaultdict, Counter, namedtuple\n",
    "from scipy import stats\n",
    "import flabpal\n",
    "import h5py\n",
    "import matplotlib.pyplot as plt\n",
    "import numpy as np\n",
    "import yaml\n",
    "\n",
    "from champ import misc\n",
    "from champ import plotting\n",
    "from champ.interactive import TargetSequence\n",
    "\n",
    "%matplotlib inline\n",
    "%load_ext autoreload\n",
    "%autoreload 2"
   ]
  },
  {
   "cell_type": "code",
   "execution_count": null,
   "metadata": {},
   "outputs": [],
   "source": [
    "with open(target_sequence_file) as f:\n",
    "    targets = yaml.load(f)\n",
    "target = targets[target_name]\n",
    "negative_control = targets[negative_control_name]\n",
    "ts = TargetSequence(target, pam_side=pam_side, pam_length=pam_length)\n",
    "\n",
    "sequence_labels = [\"$%s_{%d}$\" % (base, index) for base, index in ts.human_readable_indexes]\n",
    "guide_sequence_labels = [\"$%s_{%d}$\" % (base, index) for base, index in ts.guide.human_readable_indexes]"
   ]
  },
  {
   "cell_type": "code",
   "execution_count": null,
   "metadata": {},
   "outputs": [],
   "source": [
    "target_len = len(target)\n",
    "base_color = {'A': flabpal.blue, 'C': flabpal.yellow, 'G': flabpal.green, 'T': flabpal.red}\n",
    "bases = 'ACGT'"
   ]
  },
  {
   "cell_type": "code",
   "execution_count": null,
   "metadata": {},
   "outputs": [],
   "source": [
    "kd_filename = 'results/cluster-data.h5'\n",
    "with h5py.File(kd_filename, 'r') as h5:\n",
    "    kd_data = h5['synthetic-kds'][:]\n",
    "kds = {}\n",
    "kd_uncertainty = {}\n",
    "counts = []\n",
    "for sequence, kd, uncertainty, yint, delta_y, count in kd_data:\n",
    "    kds[sequence] = kd\n",
    "    kd_uncertainty[sequence] = uncertainty\n",
    "    counts.append(count)\n",
    "print(\"Loaded %d KDs.\" % len(kds))"
   ]
  },
  {
   "cell_type": "code",
   "execution_count": null,
   "metadata": {},
   "outputs": [],
   "source": [
    "median_count = np.median(counts)\n",
    "iqr = stats.iqr(counts)\n",
    "fig, ax = plt.subplots(figsize=(10,5))\n",
    "ax.hist(counts, bins=20, range=(0, median_count+iqr*5));\n",
    "ax.set_title(\"Sequence coverage\")\n",
    "ax.set_ylabel(\"Counts\")\n",
    "ax.set_xlabel(\"Occurrences per sequence\");"
   ]
  },
  {
   "cell_type": "code",
   "execution_count": null,
   "metadata": {},
   "outputs": [],
   "source": [
    "print(\"Lowest KD: %f\" % min(kds.values()))\n",
    "print(\"Perfect Target KD: %f\" % kds[target])"
   ]
  },
  {
   "cell_type": "markdown",
   "metadata": {},
   "source": [
    "# Off Target Binding Curve"
   ]
  },
  {
   "cell_type": "code",
   "execution_count": null,
   "metadata": {},
   "outputs": [],
   "source": [
    "import matplotlib\n",
    "matplotlib.style.use('flab')\n",
    "sorted_kds_and_uncertainties = sorted(kd_data, key=lambda x: x[1])\n",
    "sorted_kds = [data[1] for data in sorted_kds_and_uncertainties]\n",
    "max_kd = max(sorted_kds)\n",
    "sorted_uncertainties = [min(data[2], max_kd) for data in sorted_kds_and_uncertainties]\n",
    "x = np.arange(len(sorted_kds))\n",
    "fig, ax = plt.subplots(figsize=(10, 10))\n",
    "ax.scatter(x, sorted_kds, color=flabpal.blue, s=4)\n",
    "ax.errorbar(x, sorted_kds, yerr=sorted_uncertainties, ecolor=flabpal.blue, fmt='none', zorder=0, capsize=0, linewidth=0.1, alpha=0.5)\n",
    "ax.set_ylabel(\"Apparent $K_D$ (nM)\")\n",
    "ax.set_xlabel(\"Rank Ordered Affinities\")\n",
    "ax.set_title(\"Off Target Binding Curve\");"
   ]
  },
  {
   "cell_type": "markdown",
   "metadata": {},
   "source": [
    "# Single Mismatch Affinities"
   ]
  },
  {
   "cell_type": "code",
   "execution_count": null,
   "metadata": {},
   "outputs": [],
   "source": [
    "fig, ax = plt.subplots(figsize=(15, 5))\n",
    "idxs = np.arange(len(target))\n",
    "width = 0.5\n",
    "\n",
    "for i, j, mismatch_base, seq in ts.single_mismatches:\n",
    "    if seq == ts.sequence:\n",
    "        continue\n",
    "    affinity = kds.get(seq)\n",
    "    yerr = kd_uncertainty.get(seq)\n",
    "    if affinity is None or yerr is None:\n",
    "        continue\n",
    "    bar_x_position = i - width/2.0 + width*j/4.0\n",
    "    color = base_color[mismatch_base]\n",
    "    error_kw = dict(ecolor='k', alpha=0.6)\n",
    "    ax.bar(bar_x_position, affinity, yerr=yerr, width=width / 4.0, color=color)\n",
    "ax.axhline(kds[target], linestyle='--', color=flabpal.gray)\n",
    "ax.axhline(kds[negative_control], linestyle='--', color=flabpal.gray)\n",
    "plotting.configure_position_penalty_axes(target, fig, ax, sequence_labels, fontsize, tick_fontsize, 'kd', target_name)\n",
    "ax.set_yscale(\"log\")"
   ]
  },
  {
   "cell_type": "markdown",
   "metadata": {},
   "source": [
    "# Double Mismatch Affinities"
   ]
  },
  {
   "cell_type": "code",
   "execution_count": null,
   "metadata": {},
   "outputs": [],
   "source": [
    "mm = interactive.MismatchMatrix(ts.sequence)\n",
    "for i, j, base_i, base_j, seq in ts.double_mismatches:\n",
    "    affinity = kds.get(seq)\n",
    "    if affinity is None:\n",
    "        continue\n",
    "    mm.set_value(i, j, base_i, base_j, affinity)\n",
    "plotting.plot_2d_mismatches(ts.sequence, sequence_labels, mm.to_matrix())"
   ]
  },
  {
   "cell_type": "markdown",
   "metadata": {},
   "source": [
    "# Double Mismatch Epistasis"
   ]
  },
  {
   "cell_type": "code",
   "execution_count": null,
   "metadata": {},
   "outputs": [],
   "source": [
    "epistasis_matrix = interactive.MismatchMatrix(ts.sequence)\n",
    "perfect_kd = kds[ts.sequence]\n",
    "for downstream_mismatch_index, upstream_mismatch_index, downstream_mismatch_base, upstream_mismatch_base, sequence in ts.double_mismatches:\n",
    "    double_mismatch_kd = kds.get(sequence)\n",
    "    upstream_sequence = ts.sequence[:upstream_mismatch_index] + upstream_mismatch_base + ts.sequence[upstream_mismatch_index+1:]\n",
    "    downstream_sequence = ts.sequence[:downstream_mismatch_index] + downstream_mismatch_base + ts.sequence[downstream_mismatch_index+1:]\n",
    "    upstream_single_mismatch_kd = kds.get(upstream_sequence)\n",
    "    downstream_single_mismatch_kd = kds.get(downstream_sequence)\n",
    "    if double_mismatch_kd is not None and upstream_single_mismatch_kd is not None and downstream_single_mismatch_kd is not None:\n",
    "        delta_double_mismatch_kd = double_mismatch_kd - perfect_kd\n",
    "        delta_upstream = upstream_single_mismatch_kd - perfect_kd\n",
    "        delta_downstream = downstream_single_mismatch_kd - perfect_kd\n",
    "        dd_kd = delta_double_mismatch_kd - delta_upstream - delta_downstream\n",
    "        epistasis_matrix.set_value(downstream_mismatch_index, upstream_mismatch_index, downstream_mismatch_base, upstream_mismatch_base, dd_kd)\n",
    "plotting.plot_2d_mismatches(ts.sequence, sequence_labels, epistasis_matrix.to_matrix(), cmap='RdBu', force_full_bounds=True)"
   ]
  },
  {
   "cell_type": "markdown",
   "metadata": {},
   "source": [
    "# Single Deletion Affinities"
   ]
  },
  {
   "cell_type": "code",
   "execution_count": null,
   "metadata": {},
   "outputs": [],
   "source": [
    "fig, ax = plt.subplots(figsize=(15, 5))\n",
    "width = 0.5\n",
    "\n",
    "for i, seq in ts.guide.single_deletions:\n",
    "    sequence = ts.pam + seq if ts.pam_side == 5 else seq + ts.pam\n",
    "    affinity = kds.get(sequence)\n",
    "    yerr = kd_uncertainty.get(sequence)\n",
    "    if affinity is None or yerr is None:\n",
    "        continue\n",
    "    ax.bar(i, affinity, width=width, yerr=yerr, color=flabpal.blue, error_kw=dict(ecolor='black'))\n",
    "ax.axhline(kds[target], linestyle='--', color=flabpal.gray)\n",
    "ax.axhline(kds[negative_control], linestyle='--', color=flabpal.gray)\n",
    "plotting.configure_position_penalty_axes(ts.guide.sequence, fig, ax, guide_sequence_labels, fontsize, tick_fontsize, 'kd', target_name, legend=False)"
   ]
  },
  {
   "cell_type": "markdown",
   "metadata": {},
   "source": [
    "# Double Deletion Affinities"
   ]
  },
  {
   "cell_type": "code",
   "execution_count": null,
   "metadata": {},
   "outputs": [],
   "source": [
    "from matplotlib import gridspec\n",
    "import matplotlib as mpl\n",
    "\n",
    "dm = interactive.SinglePositionMatrix(ts.guide.sequence)\n",
    "for i, j, seq in ts.guide.double_deletions:\n",
    "    # we add the PAM back in just to look up its affinity\n",
    "    sequence = ts.pam + seq if ts.pam_side == 5 else seq + ts.pam\n",
    "    affinity = kds.get(sequence)\n",
    "    yerr = kd_uncertainty.get(sequence)\n",
    "    if affinity is None or yerr is None:\n",
    "        continue\n",
    "    dm.set_value(j, i, affinity)\n",
    "        \n",
    "plotting.plot_2d_deletions(ts.guide.sequence, guide_sequence_labels, dm.to_matrix())"
   ]
  },
  {
   "cell_type": "markdown",
   "metadata": {},
   "source": [
    "# Double Deletion Epistasis"
   ]
  },
  {
   "cell_type": "code",
   "execution_count": null,
   "metadata": {},
   "outputs": [],
   "source": [
    "epistasis_matrix = interactive.SinglePositionMatrix(ts.guide.sequence)\n",
    "for upstream_index, downstream_index, sequence in ts.guide.double_deletions:\n",
    "    double_kd = kds.get(ts.pam + sequence)\n",
    "    upstream_sequence = ts.guide.sequence[:upstream_index] + ts.guide.sequence[upstream_index+1:]\n",
    "    downstream_sequence = ts.guide.sequence[:downstream_index] + ts.guide.sequence[downstream_index+1:]\n",
    "    upstream_single_kd = kds.get(ts.pam + upstream_sequence)\n",
    "    downstream_single_kd = kds.get(ts.pam + downstream_sequence)\n",
    "    if double_kd is not None and upstream_single_kd is not None and downstream_single_kd is not None:\n",
    "        delta_double_kd = double_kd - perfect_kd\n",
    "        delta_upstream = upstream_single_kd - perfect_kd\n",
    "        delta_downstream = downstream_single_kd - perfect_kd\n",
    "        dd_kd = delta_double_kd - (delta_upstream + delta_downstream)\n",
    "        epistasis_matrix.set_value(downstream_index, upstream_index, dd_kd)\n",
    "plotting.plot_2d_deletions(ts.guide.sequence, guide_sequence_labels, epistasis_matrix.to_matrix(), cmap='RdBu', force_full_bounds=True)"
   ]
  },
  {
   "cell_type": "markdown",
   "metadata": {},
   "source": [
    "# Single Insertion Affinities"
   ]
  },
  {
   "cell_type": "code",
   "execution_count": null,
   "metadata": {},
   "outputs": [],
   "source": [
    "fig, ax = plt.subplots(figsize=(15, 5))\n",
    "idxs = np.arange(len(target))\n",
    "width = 0.5\n",
    "\n",
    "for i, j, insertion_base, seq in ts.guide.single_insertions:\n",
    "    sequence = ts.pam + seq if ts.pam_side == 5 else seq + ts.pam\n",
    "    affinity = kds.get(sequence)\n",
    "    yerr = kd_uncertainty.get(sequence)\n",
    "    if affinity is None or yerr is None:\n",
    "        continue\n",
    "    bar_x_position = i - width/2.0 + width*j/4.0\n",
    "    color = base_color[insertion_base]\n",
    "    ax.bar(bar_x_position, affinity, width=width/4.0, yerr=yerr, color=color, error_kw=dict(ecolor='k', alpha=0.6))\n",
    "ax.axhline(kds[target], linestyle='--', color=flabpal.gray)\n",
    "ax.axhline(kds[negative_control], linestyle='--', color=flabpal.gray)\n",
    "plotting.configure_position_penalty_axes(ts.guide.sequence, fig, ax, guide_sequence_labels, fontsize, tick_fontsize, 'kd', target_name)"
   ]
  },
  {
   "cell_type": "markdown",
   "metadata": {},
   "source": [
    "# Double Insertion Affinities"
   ]
  },
  {
   "cell_type": "code",
   "execution_count": null,
   "metadata": {},
   "outputs": [],
   "source": [
    "mm = interactive.InsertionMatrix(ts.guide.sequence)\n",
    "for i, j, base_i, base_j, seq in ts.guide.double_insertions:\n",
    "    sequence = ts.pam + seq if ts.pam_side == 5 else seq + ts.pam\n",
    "    affinity = kds.get(sequence)\n",
    "    yerr = kd_uncertainty.get(sequence)\n",
    "    if affinity is None or yerr is None:\n",
    "        continue\n",
    "    mm.set_value(i, j, base_j, base_i, affinity)\n",
    "    \n",
    "plotting.plot_2d_insertions(ts.guide.sequence, guide_sequence_labels, mm.to_matrix())"
   ]
  },
  {
   "cell_type": "markdown",
   "metadata": {},
   "source": [
    "# Double Insertion Epistasis"
   ]
  },
  {
   "cell_type": "code",
   "execution_count": null,
   "metadata": {},
   "outputs": [],
   "source": [
    "epistasis_matrix = interactive.InsertionMatrix(ts.guide.sequence)\n",
    "for downstream_index, upstream_index, upstream_insertion_base, downstream_insertion_base, sequence in ts.guide.double_insertions:\n",
    "    double_kd = kds.get(ts.pam + sequence)\n",
    "    upstream_sequence = ts.guide.sequence[:upstream_index] + upstream_insertion_base + ts.guide.sequence[upstream_index:]\n",
    "    downstream_sequence = ts.guide.sequence[:downstream_index] + downstream_insertion_base + ts.guide.sequence[downstream_index:]\n",
    "    upstream_single_kd = kds.get(ts.pam + upstream_sequence)\n",
    "    downstream_single_kd = kds.get(ts.pam + downstream_sequence)\n",
    "    if double_kd is not None and upstream_single_kd is not None and downstream_single_kd is not None:\n",
    "        delta_double_kd = double_kd - perfect_kd\n",
    "        delta_upstream = upstream_single_kd - perfect_kd\n",
    "        delta_downstream = downstream_single_kd - perfect_kd\n",
    "        dd_kd = delta_double_kd - (delta_upstream + delta_downstream)\n",
    "        epistasis_matrix.set_value(downstream_index, upstream_index, downstream_insertion_base, upstream_insertion_base, dd_kd)\n",
    "plotting.plot_2d_insertions(ts.guide.sequence, guide_sequence_labels, epistasis_matrix.to_matrix(), cmap='RdBu', force_full_bounds=True)"
   ]
  },
  {
   "cell_type": "markdown",
   "metadata": {},
   "source": [
    "# Complement Stretch Affinities"
   ]
  },
  {
   "cell_type": "code",
   "execution_count": null,
   "metadata": {},
   "outputs": [],
   "source": [
    "dm = interactive.SinglePositionMatrix(ts.guide.sequence)\n",
    "for start, stop, seq in ts.guide.complement_stretches:\n",
    "    # we add the PAM back in just to look up its affinity\n",
    "    sequence = ts.pam + seq if ts.pam_side == 5 else seq + ts.pam\n",
    "    affinity = kds.get(sequence)\n",
    "    yerr = kd_uncertainty.get(sequence)\n",
    "    if affinity is None or yerr is None:\n",
    "        continue\n",
    "    dm.set_value(stop, start, affinity)\n",
    "\n",
    "plotting.plot_complement_stretches(ts.guide.sequence, guide_sequence_labels, dm.to_matrix())"
   ]
  }
 ],
 "metadata": {
  "kernelspec": {
   "display_name": "Python 2",
   "language": "python",
   "name": "python2"
  },
  "language_info": {
   "codemirror_mode": {
    "name": "ipython",
    "version": 2
   },
   "file_extension": ".py",
   "mimetype": "text/x-python",
   "name": "python",
   "nbconvert_exporter": "python",
   "pygments_lexer": "ipython2",
   "version": "2.7.14"
  }
 },
 "nbformat": 4,
 "nbformat_minor": 1
}
