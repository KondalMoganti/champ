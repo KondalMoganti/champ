{
 "cells": [
  {
   "cell_type": "code",
   "execution_count": null,
   "metadata": {
    "collapsed": false
   },
   "outputs": [],
   "source": [
    "from IPython.display import HTML\n",
    "\n",
    "HTML('''<script>\n",
    "code_show=true; \n",
    "function code_toggle() {\n",
    " if (code_show){\n",
    " $('div.input').hide();\n",
    " } else {\n",
    " $('div.input').show();\n",
    " }\n",
    " code_show = !code_show\n",
    "} \n",
    "$( document ).ready(code_toggle);\n",
    "</script>\n",
    "<form action=\"javascript:code_toggle()\"><input type=\"submit\" value=\"Click here to toggle on/off the raw code.\"></form>''')"
   ]
  },
  {
   "cell_type": "code",
   "execution_count": null,
   "metadata": {
    "collapsed": true
   },
   "outputs": [],
   "source": [
    "pam_side=5  # 5 or 3 \n",
    "pam_length=4  # number of bases\n",
    "\n",
    "####################################################################################\n",
    "#                                                                                  #\n",
    "# Leave these values unchanged to let the script determine them automatically.         #\n",
    "# Only set them if something goes wrong!                                           #\n",
    "#                                                                                  #\n",
    "####################################################################################\n",
    "target_name = ''\n",
    "target_sequence_file = '/shared/targets.yml'"
   ]
  },
  {
   "cell_type": "code",
   "execution_count": null,
   "metadata": {
    "collapsed": true
   },
   "outputs": [],
   "source": [
    "import yaml\n",
    "\n",
    "def load_config_value(item_name, override_value):\n",
    "    # let the user override this method with a manually-specified value\n",
    "    if override_value:\n",
    "        return override_value\n",
    "    try:\n",
    "        with open(\"champ.yml\") as f:\n",
    "            config = yaml.load(f)\n",
    "            return config[item_name]\n",
    "    except Exception as e:\n",
    "        print(e)\n",
    "        raise ValueError(\"We could not determine the {item_name} from champ.yml. Make sure you have a configuration file and that the value is set.\".format(item_name=item_name))"
   ]
  },
  {
   "cell_type": "code",
   "execution_count": null,
   "metadata": {
    "collapsed": true
   },
   "outputs": [],
   "source": [
    "target_name = load_config_value('perfect_target_name', target_name)\n",
    "\n",
    "# plot settings\n",
    "fontsize = 18\n",
    "tick_fontsize = 16"
   ]
  },
  {
   "cell_type": "code",
   "execution_count": null,
   "metadata": {
    "collapsed": false
   },
   "outputs": [],
   "source": [
    "%matplotlib inline\n",
    "%load_ext autoreload\n",
    "%autoreload 2\n",
    "import os\n",
    "import sys\n",
    "import glob\n",
    "import numpy as np\n",
    "import matplotlib.pyplot as plt\n",
    "import tifffile\n",
    "import random\n",
    "import itertools\n",
    "from collections import defaultdict, Counter, namedtuple\n",
    "from IPython.display import HTML, Image\n",
    "from champ import misc, intensity, intensity_array, interactive\n",
    "from Bio import SeqIO\n",
    "import time\n",
    "from JSAnimation import IPython_display\n",
    "from matplotlib import animation\n",
    "import yaml\n",
    "import flabpal\n",
    "from champ.adapters_cython import simple_hamming_distance\n",
    "from mpl_toolkits.mplot3d import Axes3D\n",
    "import matplotlib as mpl\n",
    "import matplotlib.pyplot as plt\n",
    "from champ.interactive import TargetSequence\n",
    "from champ import plotting"
   ]
  },
  {
   "cell_type": "code",
   "execution_count": null,
   "metadata": {
    "collapsed": true
   },
   "outputs": [],
   "source": [
    "with open(target_sequence_file) as f:\n",
    "    targets = yaml.load(f)\n",
    "target = targets[target_name]\n",
    "ts = TargetSequence(target, pam_side=pam_side, pam_length=pam_length)\n",
    "\n",
    "sequence_labels = [\"$%s_{%d}$\" % (base, index) for base, index in ts.human_readable_indexes]\n",
    "guide_sequence_labels = [\"$%s_{%d}$\" % (base, index) for base, index in ts.guide.human_readable_indexes]"
   ]
  },
  {
   "cell_type": "code",
   "execution_count": null,
   "metadata": {
    "collapsed": false
   },
   "outputs": [],
   "source": [
    "adjusted_intensity_filename = os.path.join('results', 'LDA_Imin_const_Imax_adjusted_Kds_and_ABAs.txt')\n",
    "target_len = len(target)\n",
    "base_color = {'A': flabpal.blue, 'C': flabpal.yellow, 'G': flabpal.green, 'T': flabpal.red}\n",
    "bases = 'ACGT'"
   ]
  },
  {
   "cell_type": "code",
   "execution_count": null,
   "metadata": {
    "collapsed": false
   },
   "outputs": [],
   "source": [
    "Kds = {}\n",
    "Kd_error = {} \n",
    "ABAs = {}\n",
    "ABA_error = {}\n",
    "ddGs = {}\n",
    "\n",
    "with open(adjusted_intensity_filename) as f:\n",
    "    line = next(f)\n",
    "    assert line.startswith('# Target:')\n",
    "    target = line.strip().split(': ')[1]\n",
    "    line = next(f)\n",
    "    assert line.startswith('# Neg Control')\n",
    "    neg_control_target = line.strip().split(': ')[1]\n",
    "    line = next(f)\n",
    "    assert line.startswith('# Concentration')\n",
    "    line = next(f)\n",
    "    while not line.startswith('#'):\n",
    "        max_concentration = float(line.strip().split()[0])\n",
    "        line = next(f)\n",
    "    assert line.startswith('# Seq')\n",
    "    for line in f:\n",
    "        if line.startswith('#'):\n",
    "            continue\n",
    "        words = line.strip().split()\n",
    "        seq = words[0]\n",
    "        assert seq not in Kds, seq\n",
    "        Kd, Kd_err, ABA, ABA_err = map(float, words[1:])\n",
    "        Kds[seq] = Kd\n",
    "        Kd_error[seq] = Kd_err\n",
    "        ABAs[seq] = max(ABA, 0.0)\n",
    "        ABA_error[seq] = ABA_err\n",
    "ddGs = {seq: ABAs[target] - ABA for seq, ABA in ABAs.items()}\n",
    "ddG_error = ABA_error\n",
    "perfect_ABA = ABAs[ts.sequence]"
   ]
  },
  {
   "cell_type": "markdown",
   "metadata": {},
   "source": [
    "# Single Mismatch Affinities"
   ]
  },
  {
   "cell_type": "code",
   "execution_count": null,
   "metadata": {
    "collapsed": false
   },
   "outputs": [],
   "source": [
    "fig, ax = plt.subplots(figsize=(15, 5))\n",
    "idxs = np.arange(len(target))\n",
    "width = 0.5\n",
    "\n",
    "for i, j, mismatch_base, seq in ts.single_mismatches:\n",
    "    affinity = ABAs.get(seq)\n",
    "    if affinity is None:\n",
    "        continue\n",
    "    affinity -= perfect_ABA\n",
    "    error = ABA_error[seq]\n",
    "    label = mismatch_base if i == 0 else None\n",
    "    bar_x_position = i - width/2.0 + width*j/4.0\n",
    "    color = base_color[mismatch_base]\n",
    "    error_kw = dict(ecolor='k', alpha=0.6)\n",
    "    ax.bar(bar_x_position, affinity, width=width/4.0, yerr=error, color=color, error_kw=error_kw, label=label)\n",
    "plotting.configure_position_penalty_axes(target, fig, ax, sequence_labels, fontsize, tick_fontsize, 'ABA', target_name)"
   ]
  },
  {
   "cell_type": "markdown",
   "metadata": {},
   "source": [
    "# Double Mismatch Affinities"
   ]
  },
  {
   "cell_type": "code",
   "execution_count": null,
   "metadata": {
    "collapsed": false
   },
   "outputs": [],
   "source": [
    "mm = interactive.MismatchMatrix(ts.sequence)\n",
    "for i, j, base_i, base_j, seq in ts.double_mismatches:\n",
    "    affinity = ABAs.get(seq)\n",
    "    if affinity is None:\n",
    "        continue\n",
    "    affinity -= perfect_ABA\n",
    "    mm.set_value(i, j, base_i, base_j, affinity)\n",
    "    \n",
    "plotting.plot_2d_mismatches(ts.sequence, sequence_labels, mm.to_matrix())"
   ]
  },
  {
   "cell_type": "code",
   "execution_count": null,
   "metadata": {
    "collapsed": false
   },
   "outputs": [],
   "source": [
    "epistasis_matrix = interactive.MismatchMatrix(ts.sequence)\n",
    "for downstream_mismatch_index, upstream_mismatch_index, downstream_mismatch_base, upstream_mismatch_base, sequence in ts.double_mismatches:\n",
    "    double_mismatch_ABA = ABAs.get(sequence)\n",
    "    upstream_sequence = ts.sequence[:upstream_mismatch_index] + upstream_mismatch_base + ts.sequence[upstream_mismatch_index+1:]\n",
    "    downstream_sequence = ts.sequence[:downstream_mismatch_index] + downstream_mismatch_base + ts.sequence[downstream_mismatch_index+1:]\n",
    "    upstream_single_mismatch_ABA = ABAs.get(upstream_sequence)\n",
    "    downstream_single_mismatch_ABA = ABAs.get(downstream_sequence)\n",
    "    if double_mismatch_ABA is not None and upstream_single_mismatch_ABA is not None and downstream_single_mismatch_ABA is not None:\n",
    "        delta_double_mismatch_ABA = double_mismatch_ABA - perfect_ABA\n",
    "        delta_upstream = upstream_single_mismatch_ABA - perfect_ABA\n",
    "        delta_downstream = downstream_single_mismatch_ABA - perfect_ABA\n",
    "        ddABA = delta_double_mismatch_ABA - delta_upstream - delta_downstream\n",
    "        epistasis_matrix.set_value(downstream_mismatch_index, upstream_mismatch_index, downstream_mismatch_base, upstream_mismatch_base, ddABA)\n",
    "plotting.plot_2d_mismatches(ts.sequence, sequence_labels, epistasis_matrix.to_matrix(), cmap='RdBu', force_full_bounds=True)"
   ]
  },
  {
   "cell_type": "markdown",
   "metadata": {},
   "source": [
    "# Single Deletion Affinities"
   ]
  },
  {
   "cell_type": "code",
   "execution_count": null,
   "metadata": {
    "collapsed": false
   },
   "outputs": [],
   "source": [
    "fig, ax = plt.subplots(figsize=(15, 5))\n",
    "width = 0.5\n",
    "\n",
    "for i, seq in ts.guide.single_deletions:\n",
    "    sequence = ts.pam + seq if ts.pam_side == 5 else seq + ts.pam\n",
    "    affinity = ABAs.get(sequence)\n",
    "    if affinity is None:\n",
    "        continue\n",
    "    affinity -= perfect_ABA\n",
    "    error = ABA_error[sequence]\n",
    "    ax.bar(i, affinity, width=width, yerr=error, color=flabpal.gray, error_kw=dict(ecolor='black'))\n",
    "plotting.configure_position_penalty_axes(ts.guide.sequence, fig, ax, guide_sequence_labels, fontsize, tick_fontsize, 'ABA', target_name, legend=False)"
   ]
  },
  {
   "cell_type": "markdown",
   "metadata": {},
   "source": [
    "# Double Deletion Affinities"
   ]
  },
  {
   "cell_type": "code",
   "execution_count": null,
   "metadata": {
    "collapsed": false
   },
   "outputs": [],
   "source": [
    "from matplotlib import gridspec\n",
    "import matplotlib as mpl\n",
    "\n",
    "dm = interactive.SinglePositionMatrix(ts.guide.sequence)\n",
    "for i, j, seq in ts.guide.double_deletions:\n",
    "    # we add the PAM back in just to look up its affinity\n",
    "    sequence = ts.pam + seq if ts.pam_side == 5 else seq + ts.pam\n",
    "    affinity = ABAs.get(sequence)\n",
    "    if affinity is None:\n",
    "        continue\n",
    "    affinity -= perfect_ABA\n",
    "    dm.set_value(j, i, affinity)\n",
    "        \n",
    "plotting.plot_2d_deletions(ts.guide.sequence, guide_sequence_labels, dm.to_matrix())"
   ]
  },
  {
   "cell_type": "code",
   "execution_count": null,
   "metadata": {
    "collapsed": false
   },
   "outputs": [],
   "source": [
    "epistasis_matrix = interactive.SinglePositionMatrix(ts.guide.sequence)\n",
    "for upstream_index, downstream_index, sequence in ts.guide.double_deletions:\n",
    "    double_ABA = ABAs.get(ts.pam + sequence)\n",
    "    upstream_sequence = ts.guide.sequence[:upstream_index] + ts.guide.sequence[upstream_index+1:]\n",
    "    downstream_sequence = ts.guide.sequence[:downstream_index] + ts.guide.sequence[downstream_index+1:]\n",
    "    upstream_single_ABA = ABAs.get(ts.pam + upstream_sequence)\n",
    "    downstream_single_ABA = ABAs.get(ts.pam + downstream_sequence)\n",
    "    if double_ABA is not None and upstream_single_ABA is not None and downstream_single_ABA is not None:\n",
    "        delta_double_ABA = double_ABA - perfect_ABA\n",
    "        delta_upstream = upstream_single_ABA - perfect_ABA\n",
    "        delta_downstream = downstream_single_ABA - perfect_ABA\n",
    "        ddABA = delta_double_ABA - (delta_upstream + delta_downstream)\n",
    "        epistasis_matrix.set_value(downstream_index, upstream_index, ddABA)\n",
    "plotting.plot_2d_deletions(ts.guide.sequence, guide_sequence_labels, epistasis_matrix.to_matrix(), cmap='RdBu', force_full_bounds=True)"
   ]
  },
  {
   "cell_type": "markdown",
   "metadata": {},
   "source": [
    "# Single Insertion Affinities"
   ]
  },
  {
   "cell_type": "code",
   "execution_count": null,
   "metadata": {
    "collapsed": false
   },
   "outputs": [],
   "source": [
    "fig, ax = plt.subplots(figsize=(15, 5))\n",
    "idxs = np.arange(len(target))\n",
    "width = 0.5\n",
    "\n",
    "for i, j, insertion_base, seq in ts.guide.single_insertions:\n",
    "    sequence = ts.pam + seq if ts.pam_side == 5 else seq + ts.pam\n",
    "    affinity = ABAs.get(sequence)\n",
    "    if affinity is None:\n",
    "        continue\n",
    "    affinity -= perfect_ABA\n",
    "    error = ABA_error[sequence]\n",
    "    label = insertion_base if i == 0 else None\n",
    "    bar_x_position = i - width/2.0 + width*j/4.0\n",
    "    color = base_color[insertion_base]\n",
    "    ax.bar(bar_x_position, affinity, width=width/4.0, yerr=error, color=color, error_kw=dict(ecolor='k', alpha=0.6), label=label)\n",
    "plotting.configure_position_penalty_axes(ts.guide.sequence, fig, ax, guide_sequence_labels, fontsize, tick_fontsize, 'ABA', target_name)"
   ]
  },
  {
   "cell_type": "markdown",
   "metadata": {},
   "source": [
    "# Double Insertion Affinities"
   ]
  },
  {
   "cell_type": "code",
   "execution_count": null,
   "metadata": {
    "collapsed": false
   },
   "outputs": [],
   "source": [
    "mm = interactive.InsertionMatrix(ts.guide.sequence)\n",
    "for i, j, base_i, base_j, seq in ts.guide.double_insertions:\n",
    "    sequence = ts.pam + seq if ts.pam_side == 5 else seq + ts.pam\n",
    "    affinity = ABAs.get(sequence)\n",
    "    if affinity is None:\n",
    "        continue\n",
    "    affinity -= perfect_ABA\n",
    "    mm.set_value(i, j, base_j, base_i, affinity)\n",
    "    \n",
    "plotting.plot_2d_insertions(ts.guide.sequence, guide_sequence_labels, mm.to_matrix())"
   ]
  },
  {
   "cell_type": "code",
   "execution_count": null,
   "metadata": {
    "collapsed": false
   },
   "outputs": [],
   "source": [
    "epistasis_matrix = interactive.InsertionMatrix(ts.guide.sequence)\n",
    "for downstream_index, upstream_index, upstream_insertion_base, downstream_insertion_base, sequence in ts.guide.double_insertions:\n",
    "    double_ABA = ABAs.get(ts.pam + sequence)\n",
    "    upstream_sequence = ts.guide.sequence[:upstream_index] + upstream_insertion_base + ts.guide.sequence[upstream_index:]\n",
    "    downstream_sequence = ts.guide.sequence[:downstream_index] + downstream_insertion_base + ts.guide.sequence[downstream_index:]\n",
    "    upstream_single_ABA = ABAs.get(ts.pam + upstream_sequence)\n",
    "    downstream_single_ABA = ABAs.get(ts.pam + downstream_sequence)\n",
    "    if double_ABA is not None and upstream_single_ABA is not None and downstream_single_ABA is not None:\n",
    "        delta_double_ABA = double_ABA - perfect_ABA\n",
    "        delta_upstream = upstream_single_ABA - perfect_ABA\n",
    "        delta_downstream = downstream_single_ABA - perfect_ABA\n",
    "        ddABA = delta_double_ABA - (delta_upstream + delta_downstream)\n",
    "        epistasis_matrix.set_value(downstream_index, upstream_index, downstream_insertion_base, upstream_insertion_base, ddABA)\n",
    "plotting.plot_2d_insertions(ts.guide.sequence, guide_sequence_labels, epistasis_matrix.to_matrix(), cmap='RdBu', force_full_bounds=True)"
   ]
  },
  {
   "cell_type": "markdown",
   "metadata": {},
   "source": [
    "# Complement Stretch Affinities"
   ]
  },
  {
   "cell_type": "code",
   "execution_count": null,
   "metadata": {
    "collapsed": false
   },
   "outputs": [],
   "source": [
    "dm = interactive.SinglePositionMatrix(ts.guide.sequence)\n",
    "for start, stop, seq in ts.guide.complement_stretches:\n",
    "    # we add the PAM back in just to look up its affinity\n",
    "    sequence = ts.pam + seq if ts.pam_side == 5 else seq + ts.pam\n",
    "    affinity = ABAs.get(sequence)\n",
    "    if affinity is None:\n",
    "        continue\n",
    "    affinity -= perfect_ABA\n",
    "    dm.set_value(stop, start, affinity)\n",
    "\n",
    "plotting.plot_complement_stretches(ts.guide.sequence, guide_sequence_labels, dm.to_matrix())"
   ]
  }
 ],
 "metadata": {
  "kernelspec": {
   "display_name": "Python 2",
   "language": "python",
   "name": "python2"
  },
  "language_info": {
   "codemirror_mode": {
    "name": "ipython",
    "version": 2
   },
   "file_extension": ".py",
   "mimetype": "text/x-python",
   "name": "python",
   "nbconvert_exporter": "python",
   "pygments_lexer": "ipython2",
   "version": "2.7.6"
  }
 },
 "nbformat": 4,
 "nbformat_minor": 1
}
